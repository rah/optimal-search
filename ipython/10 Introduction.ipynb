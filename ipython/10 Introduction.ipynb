{
 "cells": [
  {
   "cell_type": "markdown",
   "metadata": {},
   "source": [
    "# Introduction"
   ]
  },
  {
   "cell_type": "markdown",
   "metadata": {},
   "source": [
    "Intertidal predatory gastropods of the genus _Polinices_ search for prey items during low tide. _Polinices_ sp can be found in a variety of intertidal habitats ranging from dynamic surf beaches to sheltered esturine areas. _P. incea_ is found on predominantly on surf beaches, _P. conicus_ and _P. sordidus_ are  generally found in more sheltered beaches or esturine areas. Prey items for _Polinices_ sp consist of other molluscs. _P. incea_ feeds mainly on pipis (_Donax_ sp), _P. conicus_ and _P. sordidus_ feed on a variety of molluscs, with _Isanda coronata_ being the major prey item in the Townsville study area.\n",
    "\n",
    "Search behaviour for prey is conducted by moving across the surface of the substrate until a prey item is detected. Two methods of detection have been observed; mechanoreception and chemoreception. Detection through mechanoreception usually occurs when prey items ..."
   ]
  },
  {
   "cell_type": "markdown",
   "metadata": {},
   "source": [
    "## Area Restricted Search\n",
    "Area restricted search (ARS) is a specific form of search activity conducted to find additional resources given that  one or more resources have already been discovered. The resources discovered may be utilised, or may only be detected. This form of search is generally characterised by an increased turning rate and slower speed at the onset of search, then returning to prior levels after a certain time period. Undirected search is defined as the movement pattern displayed prior to discovery and commencement of ARS. The characteristics of undirected search will depend on the searchers internal state and current environment.\n",
    "\n",
    "Note that undirected search may also exhibit a high level of sinuosity. For example in a habitat or patch of high quality, it may be worthwhile to exhibit a high level of sinuosity to stay in the area. This may apply in particular to those habitats that have no clear boundaries. The problem here is to differentiate  between the search behaviour immediately after a contact to the search within a high quality patch (if indeed there is a difference). \n",
    "\n",
    "There are potentially a wide range of area restricted search behaviours, the form of search considered here is restricted to where: \n",
    "- The resource is essentially a point resource.\n",
    "- The search path width is small in comparison to the area which can be covered in a foraging bout.\n",
    "- The direction of the resource is equiprobable\n",
    "\n",
    "The major components that influence the resultant search path during ARS are:\n",
    "- giving up time\n",
    "- angles turned\n",
    "- speed\n",
    "- probability of +ve turn\n",
    "- detection function\n",
    "- probability distribution of target\n",
    "\n",
    "## Giving Up Time\n",
    "Giving up time (GUT) from the perspective of ARS is the time taken for the components of angle turned, speed, and probability of +ve (or -ve) turns to return to the values that existed prior to the detection of the target and commencement of ARS. GUT is dependant on a number of factors associated with the searcher and it's current environment. These factors may include:\n",
    "- hunger\n",
    "- time since the last detection\n",
    "- number of detections\n",
    "- rate of detections\n",
    "- time since general seaching began (conversely, time left for searching)\n",
    "- knowledge of prior searches, i.e a more global knowledge of the environment\n",
    "\n",
    "All of these factors give some indication of the environment quality. A measure of this quality is necessary in order to vary those parameters of angle turned, speed, and probability of +ve turn, such that the search path may be \"optimised\". \n",
    "\n",
    "Values of GUT range from a few seconds (insects) to periods of greater than 60 minutes (pers obs on Polynices sp.)\n",
    "\n",
    "## Angle Turned\n",
    "The angles turned during the execution of ARS typically show an increased turning rate in the initial stages of the search and then return to the levels of angle turned exhibited during undirected search. The time that it takes for undirected search levels to be returned to may be taken to be the giving up time. \n",
    "\n",
    "Three functional responses may define the characteristics for changes in angle turned:\n",
    "- linear\n",
    "- sigmoid\n",
    "- negative exponential\n",
    "\n",
    "Each response will show a decrease in the magnitude of the angles turned as time passes until a point is reached at which the angles turned level off to a value which reflects a specific state of undirected search within a given habitat or patch.\n",
    "\n",
    "A linear response would give an even distribution of search up to giving up time, a  sigmoid response would give a more concentrated search pattern in comparison, and an exponential response a more spread out search pattern.\n",
    "\n",
    "In addition to the functional response of the angles turned, the varience of the angle turned needs to be considered. The varience of the angles turned throughout ARS may change in a manner similar to that described for the functional response i.e. show a high varience at the start of ARS and reducing with time (or other responses). \n",
    "\n",
    "The varience may also be dependant on the varience of the angles turned for undirected search. In an area of high quality the distribution of angles turned may exhibit a greater varience which may serve to keep the searcher in such an area for a longer period. Observations of Polynices sp. indicate that undirected search in richer patches shows a more meandering path than those in poorer patches.\n",
    "\n",
    "### Speed\n",
    "The speed of movement often shows a reduction in the initial stages of ARS with a return to normal levels at the resumption of undirected search.  The form this may take may be linear or non-linear. In a similar manner to angles turned, the varience associated with the speed at time t may vary.\n",
    "\n",
    "Three functional responses may define the characteristics for changes in angle turned:\n",
    "- linear\n",
    "- sigmoid\n",
    "- monotonically increasing\n",
    "\n",
    "A sigmoid response would tend to show a more concentrated search than linear which in turn would be more concentrated than a monotonically increasing response assuming the same giving up time.\n",
    "\n",
    "Observations of Polynices sp show an initial increased speed for a short period, then following the pattern of reduced speed with a return to normal levels over time.\n",
    "\n",
    "### Probability of Turn\n",
    "The probability of a left or right turn may vary during the course of area restricted search, ranging from very high to equiprobable left or right turns.  Searches with a high probability of a turn in one direction will show looping patterns, whereas searches with equiprobable turns will appear to be more random in the initial stages when the amount of turn is high, then becoming more directional as the turning rate becomes low.\n",
    "\n",
    "### Detection Function\n",
    "The detection function is the relationship between the probability of detection and the range of the target from the searcher. In situations where the detection range is small, the \"throughness\" of the search will need to be greater to detect the target. The combination of the detection function and the abundance of potential resources will vary the optimal giving up time and optimal search path.\n",
    "\n",
    "### Probability Distribution of Target\n",
    "This is the probability of finding a resource at distance x from the initiation of search. The shape of this distribution can vary in both the x and y directions. In most situations, without additional information the probability distribution is circular. In those situations where the target is likely to have moved in one direction then the distribution will be skewed in that direction."
   ]
  },
  {
   "cell_type": "markdown",
   "metadata": {},
   "source": [
    "# Study"
   ]
  }
 ],
 "metadata": {
  "kernelspec": {
   "display_name": "Python 2",
   "language": "python",
   "name": "python2"
  },
  "language_info": {
   "codemirror_mode": {
    "name": "ipython",
    "version": 2
   },
   "file_extension": ".py",
   "mimetype": "text/x-python",
   "name": "python",
   "nbconvert_exporter": "python",
   "pygments_lexer": "ipython2",
   "version": "2.7.12"
  }
 },
 "nbformat": 4,
 "nbformat_minor": 2
}
