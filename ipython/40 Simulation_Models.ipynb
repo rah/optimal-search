{
 "cells": [
  {
   "cell_type": "markdown",
   "metadata": {},
   "source": [
    "# Simulation Models"
   ]
  },
  {
   "cell_type": "markdown",
   "metadata": {},
   "source": [
    "## Introduction"
   ]
  },
  {
   "cell_type": "code",
   "execution_count": 3,
   "metadata": {},
   "outputs": [],
   "source": [
    "import sys\n",
    "import random\n",
    "import numpy as np\n",
    "import pylab\n",
    "from scipy import stats"
   ]
  },
  {
   "cell_type": "code",
   "execution_count": 4,
   "metadata": {},
   "outputs": [],
   "source": [
    "sys.path.insert(0, '../src/simulation')\n",
    "from environment import Environment\n",
    "from predator import Predator"
   ]
  },
  {
   "cell_type": "code",
   "execution_count": 5,
   "metadata": {},
   "outputs": [],
   "source": [
    "params = {\n",
    "    'env_size': 1000,\n",
    "    'n_patches': 20,\n",
    "    'n_trials': 100,\n",
    "    'max_moves': 5000,\n",
    "    'max_entities_per_patch': 50,\n",
    "    'min_entities_per_patch': 5,\n",
    "}"
   ]
  },
  {
   "cell_type": "code",
   "execution_count": 7,
   "metadata": {},
   "outputs": [],
   "source": [
    "entity_results = []\n",
    "captured_results = []\n",
    "\n",
    "for trial in range(params['n_trials']):\n",
    "    # Set up the environment\n",
    "    env = Environment(params['env_size'], params['env_size'], params['n_patches'])\n",
    "    entities = random.randint(\n",
    "        params['min_entities_per_patch'],\n",
    "        params['max_entities_per_patch']\n",
    "    )\n",
    "    for patch in env.children:\n",
    "        patch.create_entities(entities)\n",
    "\n",
    "    pred = Predator()\n",
    "    pred.xpos = env.length / 2.0\n",
    "    pred.y_pos = env.width / 2.0\n",
    "    pred.parent = env\n",
    "\n",
    "    for i in range(params['max_moves']):\n",
    "        pred.move()\n",
    "        entity = pred.detect()\n",
    "        pred.capture(entity)\n",
    "\n",
    "    entity_results.append(entities)\n",
    "    captured_results.append(len(pred.captured))\n"
   ]
  },
  {
   "cell_type": "code",
   "execution_count": 8,
   "metadata": {},
   "outputs": [
    {
     "name": "stdout",
     "output_type": "stream",
     "text": [
      "Slope, intercept: 0.4133224334025436 2.01803111944251\n",
      "R-squared: 0.10630657435539556\n",
      "Residual Std Error =  16.701383711044606\n"
     ]
    },
    {
     "data": {
      "image/png": "[encoded data removed]",
      "text/plain": [
       "<matplotlib.figure.Figure at 0x7f58283e2310>"
      ]
     },
     "metadata": {},
     "output_type": "display_data"
    }
   ],
   "source": [
    "x = np.array(entity_results)\n",
    "y = np.array(captured_results)\n",
    "\n",
    "slope, intercept, r_value, p_value, slope_std_error = stats.linregress(x, y)\n",
    "\n",
    "print \"Slope, intercept:\", slope, intercept\n",
    "print \"R-squared:\", r_value**2\n",
    "\n",
    "# Calculate some additional outputs\n",
    "predict_y = intercept + slope * x\n",
    "pred_error = y - predict_y\n",
    "degrees_of_freedom = len(x) - 2\n",
    "residual_std_error = np.sqrt(np.sum(pred_error**2) / degrees_of_freedom)\n",
    "print \"Residual Std Error = \", residual_std_error\n",
    "\n",
    "# Plotting\n",
    "pylab.plot(x, y, 'o')\n",
    "pylab.plot(x, predict_y, 'k-')\n",
    "pylab.show()\n"
   ]
  },
  {
   "cell_type": "code",
   "execution_count": 19,
   "metadata": {},
   "outputs": [],
   "source": [
    "z = np.divide(np.multiply(y, 1.0), np.multiply(x, 1.0))"
   ]
  },
  {
   "cell_type": "code",
   "execution_count": 20,
   "metadata": {},
   "outputs": [
    {
     "data": {
      "text/plain": [
       "[<matplotlib.lines.Line2D at 0x7f57f5e4e090>]"
      ]
     },
     "execution_count": 20,
     "metadata": {},
     "output_type": "execute_result"
    },
    {
     "data": {
      "image/png": "[encoded data removed]",
      "text/plain": [
       "<matplotlib.figure.Figure at 0x7f57f8557e50>"
      ]
     },
     "metadata": {},
     "output_type": "display_data"
    }
   ],
   "source": [
    "pylab.plot(x, z, 'o')"
   ]
  }
 ],
 "metadata": {
  "kernelspec": {
   "display_name": "Python 2",
   "language": "python",
   "name": "python2"
  },
  "language_info": {
   "codemirror_mode": {
    "name": "ipython",
    "version": 2
   },
   "file_extension": ".py",
   "mimetype": "text/x-python",
   "name": "python",
   "nbconvert_exporter": "python",
   "pygments_lexer": "ipython2",
   "version": "2.7.12"
  }
 },
 "nbformat": 4,
 "nbformat_minor": 2
}
