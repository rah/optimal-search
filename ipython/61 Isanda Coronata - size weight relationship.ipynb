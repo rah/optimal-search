{
 "cells": [
  {
   "cell_type": "markdown",
   "metadata": {},
   "source": [
    "### Data\n",
    "\n",
    "1. size - length across longest axis through umbilis\n",
    "2. weight\n",
    "  1. dry weight + shell\n",
    "  2. dry weight - shell\n",
    "  \n",
    "### Method\n",
    "\n",
    "1. Animals cleaned of adhering sand etc\n",
    "2. Dried at 60 degrees C\n",
    "3. Weighed on cahn\n",
    "4. Measured with ocular micrometer\n",
    "5. Shell dissolved in 2.5% HCl\n",
    "6. Placed on foil dishes. Weight includes:\n",
    "  1. periostracium\n",
    "  2. operculum\n",
    "7. Dried at 60 degrees C\n",
    "8. Reweighted\n",
    "\n",
    "### Analysis\n",
    "\n",
    "Plot of size vs weight of shell and weight of tissue shows a power curve. Fit linear regression to obtain initial estimates of equation parameters on transformed data.\n",
    "\n",
    "Ratio of weight tissue vs weight of shell appears to show no correlation with size. Therefore if shell weight is a good estimator of effort required to handle prey then there is no difference in the cost benefit ratio for different sizes (what does this mean!). Need to determine shell thickness to confirm.\n",
    "\n",
    "Also need to know:\n",
    "1. foraging activity -> time available for consumption\n",
    "2. amount consumed vs size of prey\n",
    "3. Number of prey that can be caught in a single foraging period\n",
    "4. Probability of escape during drilling, some prey items have been found with partially drilled holes\n",
    "\n",
    "### Notes\n",
    "Tare set with 10 weight (silver) ??"
   ]
  }
 ],
 "metadata": {
  "kernelspec": {
   "display_name": "Python 2",
   "language": "python",
   "name": "python2"
  },
  "language_info": {
   "codemirror_mode": {
    "name": "ipython",
    "version": 2
   },
   "file_extension": ".py",
   "mimetype": "text/x-python",
   "name": "python",
   "nbconvert_exporter": "python",
   "pygments_lexer": "ipython2",
   "version": "2.7.11"
  }
 },
 "nbformat": 4,
 "nbformat_minor": 0
}
