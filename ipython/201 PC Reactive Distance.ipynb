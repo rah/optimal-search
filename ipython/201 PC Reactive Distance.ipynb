{
 "cells": [
  {
   "cell_type": "markdown",
   "metadata": {},
   "source": [
    "# _Polynices Sordidus_ Reactive Distance"
   ]
  },
  {
   "cell_type": "markdown",
   "metadata": {},
   "source": [
    "## Introduction\n",
    "\n",
    "On the 8th April 1985 a preliminary test of the reactive distance of _P. Conicus_ was conducted. \n",
    "\n",
    "The method involved using a small stick (match stick) to prod the sand gently at a 45 degree direction to the snail movement.\n",
    "\n",
    "## Results\n",
    "\n",
    "| Trial | 10mm            | 20mm             | 30mm              | 40mm          |\n",
    "|-------|:---------------:|:------------   -:|:-----------------:|:--------------|\n",
    "| 1     | strong          | reaction         | no reaction       | no reaction   |\n",
    "| 2     | strong          | indefinite       | poss turn towards | ? turn toward |\n",
    "| 3     | strong          | stop turn & A    | some reaction     | ? stopped     |\n",
    "| 4     | strong          | stop turn & A    | turned and burrow | ? stopped     |\n",
    "| 5     | strong          | stop, cont       | no reaction       | no reaction   |\n",
    "| 6     | stop, turn away | stop & turn      | no reaction       | no reaction   |\n",
    "| 7     | stopped         | stop, cont       | no reaction       | no reaction   |\n",
    "| 8     | strong          | no reaction      | no reaction       | no reaction   |\n",
    "| 9     | no reaction     | stop             | no reaction       | no reaction   |\n",
    "| 10    | turn away       | turn, stop, cont | no reaction       | ? turn        |\n",
    "\n",
    "## Encoding\n",
    "The above table is encoded as:\n",
    "- Strong (attack)\n",
    "- Reaction\n",
    "- No Reaction\n",
    "\n",
    "| Encoding    | 10 mm | 20 mm | 30 mm | 40 mm |\n",
    "|-------------|-------|-------|-------|-------|\n",
    "| Strong      | 6     | 0     | 0     | 0     |\n",
    "| Reaction    | 3     | 9     | 3     | 2     |\n",
    "| No Reaction | 1     | 1     | 7     | 8     |"
   ]
  }
 ],
 "metadata": {
  "kernelspec": {
   "display_name": "Python 2",
   "language": "python",
   "name": "python2"
  },
  "language_info": {
   "codemirror_mode": {
    "name": "ipython",
    "version": 2
   },
   "file_extension": ".py",
   "mimetype": "text/x-python",
   "name": "python",
   "nbconvert_exporter": "python",
   "pygments_lexer": "ipython2",
   "version": "2.7.12"
  }
 },
 "nbformat": 4,
 "nbformat_minor": 2
}
