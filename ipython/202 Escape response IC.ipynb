{
 "cells": [
  {
   "cell_type": "markdown",
   "metadata": {},
   "source": [
    "# Prey detection and escape from _Polynices_ sp by _Isanda coronta_"
   ]
  },
  {
   "cell_type": "markdown",
   "metadata": {},
   "source": [
    "Data obtained from all tracks where start of prey movement clearly recorded with respect to predators position. Re-encounters between the same prey item and predator are not included.\n",
    "\n",
    "\n",
    "\n",
    "| KEY   | Description |\n",
    "|-------|:------------|\n",
    "| DATE | date of track |\n",
    "| TS | time of track started |\n",
    "| TF | time track finished |\n",
    "| PPL | predator prey location |\n",
    "| TP | track position |\n",
    "| D1 | distance from predator prey commenced moving (mm) |\n",
    "| A1 | angle from direction of movement of predator |\n",
    "| B1 | beeline distance from predator position to end of prey track |\n",
    "| B2 | beeline direction from predator position to end of prey track |\n",
    "| T1 | total distance moved by prey |\n",
    "| T2 | total time taken to move T1 |\n",
    "| DS | depth of search by predator |\n",
    "| PD | possible detection of prey by predator |\n",
    "| PS | prey speed overall T1/T2 |"
   ]
  },
  {
   "cell_type": "code",
   "execution_count": null,
   "metadata": {},
   "outputs": [],
   "source": []
  }
 ],
 "metadata": {
  "kernelspec": {
   "display_name": "Python 2",
   "language": "python",
   "name": "python2"
  },
  "language_info": {
   "codemirror_mode": {
    "name": "ipython",
    "version": 2
   },
   "file_extension": ".py",
   "mimetype": "text/x-python",
   "name": "python",
   "nbconvert_exporter": "python",
   "pygments_lexer": "ipython2",
   "version": "2.7.12"
  }
 },
 "nbformat": 4,
 "nbformat_minor": 2
}
