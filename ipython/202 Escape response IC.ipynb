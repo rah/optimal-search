{
 "cells": [
  {
   "cell_type": "markdown",
   "metadata": {},
   "source": [
    "# Predator detection and escape from _Polynices_ sp by _Isanda coronta_"
   ]
  },
  {
   "cell_type": "markdown",
   "metadata": {},
   "source": [
    "Data obtained from all tracks where start of prey movement clearly recorded with respect to predators position. Re-encounters between the same prey item and predator are not included.\n",
    "\n",
    "\n",
    "\n",
    "| KEY   | Description |\n",
    "|-------|:------------|\n",
    "| DATE | date of track |\n",
    "| TS | time of track started |\n",
    "| TF | time track finished |\n",
    "| PPL | predator prey location |\n",
    "| TP | track position |\n",
    "| D1 | distance from predator prey commenced moving (mm) |\n",
    "| A1 | angle from direction of movement of predator |\n",
    "| B1 | beeline distance from predator position to end of prey track |\n",
    "| B2 | beeline direction from predator position to end of prey track |\n",
    "| T1 | total distance moved by prey |\n",
    "| T2 | total time taken to move T1 |\n",
    "| DS | depth of search by predator |\n",
    "| PD | possible detection of prey by predator |\n",
    "| PS | prey speed overall T1/T2 |"
   ]
  },
  {
   "cell_type": "code",
   "execution_count": 64,
   "metadata": {},
   "outputs": [
    {
     "data": {
      "text/html": [
       "<div>\n",
       "<style scoped>\n",
       "    .dataframe tbody tr th:only-of-type {\n",
       "        vertical-align: middle;\n",
       "    }\n",
       "\n",
       "    .dataframe tbody tr th {\n",
       "        vertical-align: top;\n",
       "    }\n",
       "\n",
       "    .dataframe thead th {\n",
       "        text-align: right;\n",
       "    }\n",
       "</style>\n",
       "<table border=\"1\" class=\"dataframe\">\n",
       "  <thead>\n",
       "    <tr style=\"text-align: right;\">\n",
       "      <th></th>\n",
       "      <th>DATE</th>\n",
       "      <th>TS</th>\n",
       "      <th>TF</th>\n",
       "      <th>PPL</th>\n",
       "      <th>TP</th>\n",
       "      <th>D1</th>\n",
       "      <th>A1</th>\n",
       "      <th>B1</th>\n",
       "      <th>B2</th>\n",
       "      <th>T1</th>\n",
       "      <th>T2</th>\n",
       "      <th>DS</th>\n",
       "      <th>PD</th>\n",
       "      <th>PS</th>\n",
       "    </tr>\n",
       "  </thead>\n",
       "  <tbody>\n",
       "    <tr>\n",
       "      <th>0</th>\n",
       "      <td>201084</td>\n",
       "      <td>1010</td>\n",
       "      <td>1100</td>\n",
       "      <td>111</td>\n",
       "      <td>122.0</td>\n",
       "      <td>11.0</td>\n",
       "      <td>353.0</td>\n",
       "      <td>NaN</td>\n",
       "      <td>NaN</td>\n",
       "      <td>NaN</td>\n",
       "      <td>NaN</td>\n",
       "      <td>NaN</td>\n",
       "      <td>0</td>\n",
       "      <td>NaN</td>\n",
       "    </tr>\n",
       "    <tr>\n",
       "      <th>1</th>\n",
       "      <td>221084</td>\n",
       "      <td>1145</td>\n",
       "      <td>1155</td>\n",
       "      <td>111</td>\n",
       "      <td>11.0</td>\n",
       "      <td>5.0</td>\n",
       "      <td>68.0</td>\n",
       "      <td>NaN</td>\n",
       "      <td>NaN</td>\n",
       "      <td>NaN</td>\n",
       "      <td>NaN</td>\n",
       "      <td>NaN</td>\n",
       "      <td>1</td>\n",
       "      <td>NaN</td>\n",
       "    </tr>\n",
       "    <tr>\n",
       "      <th>2</th>\n",
       "      <td>241084</td>\n",
       "      <td>1253</td>\n",
       "      <td>1309</td>\n",
       "      <td>111</td>\n",
       "      <td>17.0</td>\n",
       "      <td>12.0</td>\n",
       "      <td>312.0</td>\n",
       "      <td>NaN</td>\n",
       "      <td>NaN</td>\n",
       "      <td>NaN</td>\n",
       "      <td>NaN</td>\n",
       "      <td>NaN</td>\n",
       "      <td>1</td>\n",
       "      <td>NaN</td>\n",
       "    </tr>\n",
       "    <tr>\n",
       "      <th>3</th>\n",
       "      <td>61184</td>\n",
       "      <td>1353</td>\n",
       "      <td>1401</td>\n",
       "      <td>112</td>\n",
       "      <td>13.0</td>\n",
       "      <td>21.0</td>\n",
       "      <td>11.0</td>\n",
       "      <td>42.0</td>\n",
       "      <td>349.0</td>\n",
       "      <td>24.0</td>\n",
       "      <td>NaN</td>\n",
       "      <td>NaN</td>\n",
       "      <td>1</td>\n",
       "      <td>NaN</td>\n",
       "    </tr>\n",
       "    <tr>\n",
       "      <th>4</th>\n",
       "      <td>61184</td>\n",
       "      <td>1304</td>\n",
       "      <td>1332</td>\n",
       "      <td>112</td>\n",
       "      <td>93.0</td>\n",
       "      <td>33.0</td>\n",
       "      <td>30.0</td>\n",
       "      <td>NaN</td>\n",
       "      <td>NaN</td>\n",
       "      <td>NaN</td>\n",
       "      <td>NaN</td>\n",
       "      <td>4.0</td>\n",
       "      <td>0</td>\n",
       "      <td>NaN</td>\n",
       "    </tr>\n",
       "    <tr>\n",
       "      <th>5</th>\n",
       "      <td>61184</td>\n",
       "      <td>1304</td>\n",
       "      <td>1332</td>\n",
       "      <td>112</td>\n",
       "      <td>95.0</td>\n",
       "      <td>23.0</td>\n",
       "      <td>354.0</td>\n",
       "      <td>NaN</td>\n",
       "      <td>NaN</td>\n",
       "      <td>NaN</td>\n",
       "      <td>NaN</td>\n",
       "      <td>4.0</td>\n",
       "      <td>0</td>\n",
       "      <td>NaN</td>\n",
       "    </tr>\n",
       "    <tr>\n",
       "      <th>6</th>\n",
       "      <td>61184</td>\n",
       "      <td>1304</td>\n",
       "      <td>1332</td>\n",
       "      <td>112</td>\n",
       "      <td>97.0</td>\n",
       "      <td>18.0</td>\n",
       "      <td>4.0</td>\n",
       "      <td>NaN</td>\n",
       "      <td>NaN</td>\n",
       "      <td>NaN</td>\n",
       "      <td>NaN</td>\n",
       "      <td>4.0</td>\n",
       "      <td>0</td>\n",
       "      <td>NaN</td>\n",
       "    </tr>\n",
       "    <tr>\n",
       "      <th>7</th>\n",
       "      <td>61184</td>\n",
       "      <td>1114</td>\n",
       "      <td>1126</td>\n",
       "      <td>112</td>\n",
       "      <td>30.0</td>\n",
       "      <td>11.0</td>\n",
       "      <td>113.0</td>\n",
       "      <td>NaN</td>\n",
       "      <td>NaN</td>\n",
       "      <td>NaN</td>\n",
       "      <td>NaN</td>\n",
       "      <td>NaN</td>\n",
       "      <td>1</td>\n",
       "      <td>NaN</td>\n",
       "    </tr>\n",
       "    <tr>\n",
       "      <th>8</th>\n",
       "      <td>91184</td>\n",
       "      <td>1532</td>\n",
       "      <td>1546</td>\n",
       "      <td>112</td>\n",
       "      <td>51.0</td>\n",
       "      <td>28.0</td>\n",
       "      <td>22.0</td>\n",
       "      <td>NaN</td>\n",
       "      <td>NaN</td>\n",
       "      <td>NaN</td>\n",
       "      <td>NaN</td>\n",
       "      <td>5.0</td>\n",
       "      <td>0</td>\n",
       "      <td>NaN</td>\n",
       "    </tr>\n",
       "    <tr>\n",
       "      <th>9</th>\n",
       "      <td>91184</td>\n",
       "      <td>1532</td>\n",
       "      <td>1546</td>\n",
       "      <td>112</td>\n",
       "      <td>26.0</td>\n",
       "      <td>11.0</td>\n",
       "      <td>309.0</td>\n",
       "      <td>NaN</td>\n",
       "      <td>NaN</td>\n",
       "      <td>NaN</td>\n",
       "      <td>NaN</td>\n",
       "      <td>NaN</td>\n",
       "      <td>1</td>\n",
       "      <td>NaN</td>\n",
       "    </tr>\n",
       "    <tr>\n",
       "      <th>10</th>\n",
       "      <td>101184</td>\n",
       "      <td>1453</td>\n",
       "      <td>1515</td>\n",
       "      <td>112</td>\n",
       "      <td>23.0</td>\n",
       "      <td>23.0</td>\n",
       "      <td>317.0</td>\n",
       "      <td>26.0</td>\n",
       "      <td>230.0</td>\n",
       "      <td>44.0</td>\n",
       "      <td>NaN</td>\n",
       "      <td>2.0</td>\n",
       "      <td>1</td>\n",
       "      <td>NaN</td>\n",
       "    </tr>\n",
       "    <tr>\n",
       "      <th>11</th>\n",
       "      <td>101184</td>\n",
       "      <td>1453</td>\n",
       "      <td>1515</td>\n",
       "      <td>112</td>\n",
       "      <td>3.0</td>\n",
       "      <td>16.0</td>\n",
       "      <td>32.0</td>\n",
       "      <td>110.0</td>\n",
       "      <td>309.0</td>\n",
       "      <td>155.0</td>\n",
       "      <td>NaN</td>\n",
       "      <td>NaN</td>\n",
       "      <td>1</td>\n",
       "      <td>NaN</td>\n",
       "    </tr>\n",
       "    <tr>\n",
       "      <th>12</th>\n",
       "      <td>101184</td>\n",
       "      <td>1453</td>\n",
       "      <td>1515</td>\n",
       "      <td>112</td>\n",
       "      <td>39.0</td>\n",
       "      <td>22.0</td>\n",
       "      <td>48.0</td>\n",
       "      <td>56.0</td>\n",
       "      <td>37.0</td>\n",
       "      <td>46.0</td>\n",
       "      <td>NaN</td>\n",
       "      <td>2.0</td>\n",
       "      <td>1</td>\n",
       "      <td>NaN</td>\n",
       "    </tr>\n",
       "    <tr>\n",
       "      <th>13</th>\n",
       "      <td>101184</td>\n",
       "      <td>1453</td>\n",
       "      <td>1515</td>\n",
       "      <td>112</td>\n",
       "      <td>46.0</td>\n",
       "      <td>55.0</td>\n",
       "      <td>33.0</td>\n",
       "      <td>97.0</td>\n",
       "      <td>327.0</td>\n",
       "      <td>218.0</td>\n",
       "      <td>NaN</td>\n",
       "      <td>3.0</td>\n",
       "      <td>1</td>\n",
       "      <td>NaN</td>\n",
       "    </tr>\n",
       "    <tr>\n",
       "      <th>14</th>\n",
       "      <td>101184</td>\n",
       "      <td>1453</td>\n",
       "      <td>1515</td>\n",
       "      <td>112</td>\n",
       "      <td>58.0</td>\n",
       "      <td>60.0</td>\n",
       "      <td>76.0</td>\n",
       "      <td>NaN</td>\n",
       "      <td>NaN</td>\n",
       "      <td>NaN</td>\n",
       "      <td>NaN</td>\n",
       "      <td>2.0</td>\n",
       "      <td>0</td>\n",
       "      <td>NaN</td>\n",
       "    </tr>\n",
       "  </tbody>\n",
       "</table>\n",
       "</div>"
      ],
      "text/plain": [
       "      DATE    TS    TF  PPL     TP    D1     A1     B1     B2     T1  T2   DS  \\\n",
       "0   201084  1010  1100  111  122.0  11.0  353.0    NaN    NaN    NaN NaN  NaN   \n",
       "1   221084  1145  1155  111   11.0   5.0   68.0    NaN    NaN    NaN NaN  NaN   \n",
       "2   241084  1253  1309  111   17.0  12.0  312.0    NaN    NaN    NaN NaN  NaN   \n",
       "3    61184  1353  1401  112   13.0  21.0   11.0   42.0  349.0   24.0 NaN  NaN   \n",
       "4    61184  1304  1332  112   93.0  33.0   30.0    NaN    NaN    NaN NaN  4.0   \n",
       "5    61184  1304  1332  112   95.0  23.0  354.0    NaN    NaN    NaN NaN  4.0   \n",
       "6    61184  1304  1332  112   97.0  18.0    4.0    NaN    NaN    NaN NaN  4.0   \n",
       "7    61184  1114  1126  112   30.0  11.0  113.0    NaN    NaN    NaN NaN  NaN   \n",
       "8    91184  1532  1546  112   51.0  28.0   22.0    NaN    NaN    NaN NaN  5.0   \n",
       "9    91184  1532  1546  112   26.0  11.0  309.0    NaN    NaN    NaN NaN  NaN   \n",
       "10  101184  1453  1515  112   23.0  23.0  317.0   26.0  230.0   44.0 NaN  2.0   \n",
       "11  101184  1453  1515  112    3.0  16.0   32.0  110.0  309.0  155.0 NaN  NaN   \n",
       "12  101184  1453  1515  112   39.0  22.0   48.0   56.0   37.0   46.0 NaN  2.0   \n",
       "13  101184  1453  1515  112   46.0  55.0   33.0   97.0  327.0  218.0 NaN  3.0   \n",
       "14  101184  1453  1515  112   58.0  60.0   76.0    NaN    NaN    NaN NaN  2.0   \n",
       "\n",
       "    PD  PS  \n",
       "0    0 NaN  \n",
       "1    1 NaN  \n",
       "2    1 NaN  \n",
       "3    1 NaN  \n",
       "4    0 NaN  \n",
       "5    0 NaN  \n",
       "6    0 NaN  \n",
       "7    1 NaN  \n",
       "8    0 NaN  \n",
       "9    1 NaN  \n",
       "10   1 NaN  \n",
       "11   1 NaN  \n",
       "12   1 NaN  \n",
       "13   1 NaN  \n",
       "14   0 NaN  "
      ]
     },
     "execution_count": 64,
     "metadata": {},
     "output_type": "execute_result"
    }
   ],
   "source": [
    "%matplotlib inline\n",
    "\n",
    "import numpy as np\n",
    "import pandas as pd\n",
    "import matplotlib.pyplot as plt\n",
    "\n",
    "from scipy.optimize import curve_fit\n",
    "\n",
    "DATA = '../data/Isanda_coronata-escape-response/ic-escape-response.csv'\n",
    "df = pd.read_csv(DATA)\n",
    "\n",
    "df.head(15)"
   ]
  },
  {
   "cell_type": "markdown",
   "metadata": {},
   "source": [
    "# Reactive Distance\n",
    "\n",
    "The average distance at which _Isanda coronata_ appears to detect the approach of _Polynices sordidus_ from recorded tracks is 19.38mm with a std deviation of 10.82mm.  \n"
   ]
  },
  {
   "cell_type": "code",
   "execution_count": 65,
   "metadata": {},
   "outputs": [
    {
     "data": {
      "text/plain": [
       "count    62.000000\n",
       "mean     19.387097\n",
       "std      10.828552\n",
       "min       3.000000\n",
       "25%      13.000000\n",
       "50%      17.500000\n",
       "75%      22.750000\n",
       "max      60.000000\n",
       "Name: D1, dtype: float64"
      ]
     },
     "execution_count": 65,
     "metadata": {},
     "output_type": "execute_result"
    }
   ],
   "source": [
    "df['D1'].describe()"
   ]
  },
  {
   "cell_type": "code",
   "execution_count": 66,
   "metadata": {},
   "outputs": [
    {
     "data": {
      "text/plain": [
       "<matplotlib.axes._subplots.AxesSubplot at 0x7f778d163750>"
      ]
     },
     "execution_count": 66,
     "metadata": {},
     "output_type": "execute_result"
    },
    {
     "data": {
      "image/png": "[encoded data removed]",
      "text/plain": [
       "<matplotlib.figure.Figure at 0x7f778d36c610>"
      ]
     },
     "metadata": {},
     "output_type": "display_data"
    }
   ],
   "source": [
    "df['D1'].hist(bins = 50)"
   ]
  },
  {
   "cell_type": "markdown",
   "metadata": {},
   "source": [
    "# Angle from Direction of Movement of Predator\n",
    "\n",
    "The bimodel distribution shows that _I. coronata_ is detecting the approach of _P. sordidus_ mainly in a 60 degree arc either side of the predators direction of movement."
   ]
  },
  {
   "cell_type": "code",
   "execution_count": 67,
   "metadata": {},
   "outputs": [
    {
     "data": {
      "text/plain": [
       "<matplotlib.axes._subplots.AxesSubplot at 0x7f778d102050>"
      ]
     },
     "execution_count": 67,
     "metadata": {},
     "output_type": "execute_result"
    },
    {
     "data": {
      "image/png": "[encoded data removed]",
      "text/plain": [
       "<matplotlib.figure.Figure at 0x7f778d09a210>"
      ]
     },
     "metadata": {},
     "output_type": "display_data"
    }
   ],
   "source": [
    "df['A1'].hist(bins=50)"
   ]
  },
  {
   "cell_type": "markdown",
   "metadata": {},
   "source": [
    "# Beeline distance from predator position to end of prey track"
   ]
  },
  {
   "cell_type": "code",
   "execution_count": 69,
   "metadata": {},
   "outputs": [
    {
     "data": {
      "text/plain": [
       "count     34.000000\n",
       "mean      71.676471\n",
       "std       43.277624\n",
       "min       15.000000\n",
       "25%       42.250000\n",
       "50%       62.500000\n",
       "75%       91.000000\n",
       "max      198.000000\n",
       "Name: B1, dtype: float64"
      ]
     },
     "execution_count": 69,
     "metadata": {},
     "output_type": "execute_result"
    }
   ],
   "source": [
    "df['B1'].describe()"
   ]
  },
  {
   "cell_type": "code",
   "execution_count": 77,
   "metadata": {},
   "outputs": [
    {
     "data": {
      "text/plain": [
       "<matplotlib.axes._subplots.AxesSubplot at 0x7f778c9ab490>"
      ]
     },
     "execution_count": 77,
     "metadata": {},
     "output_type": "execute_result"
    },
    {
     "data": {
      "image/png": "[encoded data removed]",
      "text/plain": [
       "<matplotlib.figure.Figure at 0x7f778c8121d0>"
      ]
     },
     "metadata": {},
     "output_type": "display_data"
    }
   ],
   "source": [
    "df['B1'].hist(bins=32)"
   ]
  },
  {
   "cell_type": "markdown",
   "metadata": {},
   "source": [
    "# Beeline direction from predator position to end of prey track"
   ]
  },
  {
   "cell_type": "code",
   "execution_count": 73,
   "metadata": {},
   "outputs": [
    {
     "data": {
      "text/plain": [
       "count     32.000000\n",
       "mean     199.187500\n",
       "std      131.178882\n",
       "min        3.000000\n",
       "25%       48.250000\n",
       "50%      231.500000\n",
       "75%      320.750000\n",
       "max      354.000000\n",
       "Name: B2, dtype: float64"
      ]
     },
     "execution_count": 73,
     "metadata": {},
     "output_type": "execute_result"
    }
   ],
   "source": [
    "df['B2'].describe()"
   ]
  },
  {
   "cell_type": "code",
   "execution_count": 76,
   "metadata": {},
   "outputs": [
    {
     "data": {
      "text/plain": [
       "<matplotlib.axes._subplots.AxesSubplot at 0x7f778c9e4e90>"
      ]
     },
     "execution_count": 76,
     "metadata": {},
     "output_type": "execute_result"
    },
    {
     "data": {
      "image/png": "[encoded data removed]",
      "text/plain": [
       "<matplotlib.figure.Figure at 0x7f778c9ab050>"
      ]
     },
     "metadata": {},
     "output_type": "display_data"
    }
   ],
   "source": [
    "df['B2'].hist(bins=32)"
   ]
  },
  {
   "cell_type": "markdown",
   "metadata": {},
   "source": [
    "# Total distance moved by prey"
   ]
  },
  {
   "cell_type": "code",
   "execution_count": 78,
   "metadata": {},
   "outputs": [
    {
     "data": {
      "text/plain": [
       "count     46.000000\n",
       "mean     114.173913\n",
       "std      100.226921\n",
       "min       15.000000\n",
       "25%       41.000000\n",
       "50%       81.000000\n",
       "75%      160.250000\n",
       "max      480.000000\n",
       "Name: T1, dtype: float64"
      ]
     },
     "execution_count": 78,
     "metadata": {},
     "output_type": "execute_result"
    }
   ],
   "source": [
    "df['T1'].describe()"
   ]
  },
  {
   "cell_type": "code",
   "execution_count": 79,
   "metadata": {},
   "outputs": [
    {
     "data": {
      "text/plain": [
       "<matplotlib.axes._subplots.AxesSubplot at 0x7f778c6f34d0>"
      ]
     },
     "execution_count": 79,
     "metadata": {},
     "output_type": "execute_result"
    },
    {
     "data": {
      "image/png": "[encoded data removed]",
      "text/plain": [
       "<matplotlib.figure.Figure at 0x7f778c685210>"
      ]
     },
     "metadata": {},
     "output_type": "display_data"
    }
   ],
   "source": [
    "df['T1'].hist(bins=46)"
   ]
  },
  {
   "cell_type": "markdown",
   "metadata": {},
   "source": [
    "# Total time taken to move T1"
   ]
  },
  {
   "cell_type": "code",
   "execution_count": 80,
   "metadata": {},
   "outputs": [
    {
     "data": {
      "text/plain": [
       "count     35.000000\n",
       "mean      67.285714\n",
       "std       53.016963\n",
       "min       15.000000\n",
       "25%       30.000000\n",
       "50%       60.000000\n",
       "75%       75.000000\n",
       "max      225.000000\n",
       "Name: T2, dtype: float64"
      ]
     },
     "execution_count": 80,
     "metadata": {},
     "output_type": "execute_result"
    }
   ],
   "source": [
    "df['T2'].describe()"
   ]
  },
  {
   "cell_type": "code",
   "execution_count": 81,
   "metadata": {},
   "outputs": [
    {
     "data": {
      "text/plain": [
       "<matplotlib.axes._subplots.AxesSubplot at 0x7f778c53d0d0>"
      ]
     },
     "execution_count": 81,
     "metadata": {},
     "output_type": "execute_result"
    },
    {
     "data": {
      "image/png": "[encoded data removed]",
      "text/plain": [
       "<matplotlib.figure.Figure at 0x7f778c6fba50>"
      ]
     },
     "metadata": {},
     "output_type": "display_data"
    }
   ],
   "source": [
    "df['T1'].hist(bins=35)"
   ]
  },
  {
   "cell_type": "markdown",
   "metadata": {},
   "source": [
    "# Possible detection of prey by predator"
   ]
  },
  {
   "cell_type": "code",
   "execution_count": 83,
   "metadata": {},
   "outputs": [
    {
     "data": {
      "text/plain": [
       "<matplotlib.axes._subplots.AxesSubplot at 0x7f778c4bb390>"
      ]
     },
     "execution_count": 83,
     "metadata": {},
     "output_type": "execute_result"
    },
    {
     "data": {
      "image/png": "[encoded data removed]",
      "text/plain": [
       "<matplotlib.figure.Figure at 0x7f778c3dc4d0>"
      ]
     },
     "metadata": {},
     "output_type": "display_data"
    }
   ],
   "source": [
    "df['PD'].hist(bins=63)"
   ]
  }
 ],
 "metadata": {
  "kernelspec": {
   "display_name": "Python 2",
   "language": "python",
   "name": "python2"
  },
  "language_info": {
   "codemirror_mode": {
    "name": "ipython",
    "version": 2
   },
   "file_extension": ".py",
   "mimetype": "text/x-python",
   "name": "python",
   "nbconvert_exporter": "python",
   "pygments_lexer": "ipython2",
   "version": "2.7.12"
  }
 },
 "nbformat": 4,
 "nbformat_minor": 2
}
