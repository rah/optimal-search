{
 "metadata": {
  "name": "",
  "signature": "sha256:a0654a90f8a5443d38f7e259b040fca301100913ec6d4d453e8e0ea159d0a5db"
 },
 "nbformat": 3,
 "nbformat_minor": 0,
 "worksheets": [
  {
   "cells": [
    {
     "cell_type": "heading",
     "level": 1,
     "metadata": {},
     "source": [
      "Area Restricted Search - Concepts"
     ]
    },
    {
     "cell_type": "markdown",
     "metadata": {},
     "source": [
      "## Concepts\n",
      "One approach to the question what is \"Area Restricted Search\" is to define the types of search problems that animals encounter. These concepts may then be used to evaluate possible search tactics appropriate to the problem, and then find examples of search which may or may not indicate the validity of such tactics. Once a possible search tactic for a problem has been identified then questions may be asked as to how the appropriate information (or what information) may be obtained to solve for that particular search problem, and the conflicts that may arise.\n",
      "\n",
      "The search problems considered assume that:\n",
      "- The resource is essentially a point resource\n",
      "- The search path width is small in comparison to the area which can be covered in a foraging bout\n",
      "- The direction of the resource is equiprobable\n",
      "\n",
      "## Search Problems\n",
      "\n",
      "### Within Habitat\n",
      "Search within a habitat with no information about the location of the resource other than possibly some information as to the quality of the habitat. The size of the habitat is large in comparison to the resource and resources may occur in patches within the habitat. In this case search may have high directionality and possibly a reflecting boundary (assuming the boundary is discernable). The best form of search with no errors in detection and navigation would be a systematic search ie parallel strip. Assumes the resource is uniformly or randomly distributed in the habitat. Given infomation on habitat quality, errors in detection the speed of search may also differ. An example of this type of search may be that of  adult female _P. rapae_. A giving up time is also necessary in these situations. Other examples are Pyke's optimal harvester and Cody's finch flocks.\n",
      "\n",
      "\n",
      "### Within Patch (defined boundaries)\n",
      "Search within a patch having clearly defined boundaries. Possibly some infomation on the quality of the patch, but no infomation on the location of items within the patch. This problem logically follows on from habitat search. The difference may be one of scale and possibly means of identification or detection of the patch. The scale might be that many patches may be discovered within a foraging period within a habitat, whereas fewer habitats may be visited in a foraging period. The best search tactic may again be systematic with reflecting boundaries. Directionality may be lower and the search path show a higher meander due to the smaller search area. The distribution of effort will then be evenly distributed across the patch. Bumble-bees may show systematic search within a flower head? Also requires a giving up time.\n",
      "\n",
      "\n",
      "### Within Patch (undefined boundaries)\n",
      "Search within a patch having undefined boundaries. Information on the quality of patch and size of patch? No infomation on  the location of items in the patch other than a lower probability as the search path moves away from the point of detection or initiation of search. This follows on from the last type but is the first of the type of search problem which has an initial start position. Classical concept of a.r.s.?  Again follows on from the last, but the distribution of effort  will not be uniform over the area it should be more concentrated in areas which have a higher target probability. The form of systematic search might be a spiral, but again with errors in detection and navigation time may be wasted. Possibly the search path should be centered on the start position with effort being initially distributed uniformly in the area of highest equal  probability and then looping out beyond this region whilst returning to the center. As time increases the total region to be searched increases so that the loops become larger until a giving up point is reached.\n",
      "\n",
      "### Stationary Target\n",
      "Search for a stationary target which has been lost. Infomation available is the last known position of the target which may well be the start position of search. This search problem is probably the most well documented both in biological papers (isopods and ants) and operations research where precise analytical solutions are well known. Same search path as c) but initially with no region of equiprobable target position. As search time increases the target distribution will alter to that of c). Two situations are possible in this type of search. For the isopod and ant examples there is no giving up time - the resource is not renewable. For other animals further resources may be available thus a giving up time is necessary depending on the availability of these resources.\n",
      "\n",
      "### Displaced Target\n",
      "Search for an escaped item. Target distrbution is centered on the point of initial contact but shifted away from the origin. From observation of _Polinices_ sp. an initial search is carried out in the immediate vicinity of the contact and then moves out to the area of highest target probability. With time the initial target distribution may change more rapidly than the previous problems as the target may move out of the area after the initial escape response.\n",
      "\n",
      "## Summary\n",
      "The above senarios may form a continuum, although a) and b) may be more similar than c), d) and e). This series may also form a conceptual model for the evolution of search behaviour as there is a systematic increase in the degree of difficulty of the problem in terms of infomation and integration required for the solution of the problem.\n",
      "\n",
      "One danger is to accept that the above do indeed form a continuum whereas there may be discontinuity in the optimal search tactics, and the use of an infinitely variable continuum may give sub-optimal solutions. On the other hand contraints on the system may prove this to be \"optimal\". Possibly a,b form one set and c,d,e form another set. Or a), b) may be viewed as local area search; d) ,e) as point search (ie initiated from a point or origin) and c) as intergrading between these.\n",
      "\n",
      "Another problem is one of scale a), b) are not really different except at the level of scale, and c),d) and e) are just variations on a theme: is there any real difference?\n",
      "\n",
      "For any search problem there exists:\n",
      "- a target function\n",
      "- a detection function\n",
      "- a cost function\n",
      "\n",
      "Definition of these should allow the analytical solution to many search problems and define the optimal allocation of effort. From this the search path can be derived which appears to be a subjective process. Little appears to be published, as often it has been a military problem and remains classified. Certain problems still remain to be solved in the area of operations research e.g. search for a conscious evader, or where the movement of the target is not random and is unknown to the searcher.\n",
      "\n",
      "When should area restricted search be carried out and what is the objective of the search? It is clear that numerous reasons for belief, sources of error, situations of conflict can arise. To consider these problems in the absence of specific animals in particular foraging situations may not be productive. It is necessary to place the problem in context of the animal. Therefore it might be productive to list examples of foraging and evaluate them in reference to the perceived problem.\n",
      "\n",
      "Given the original question; is a.r.s to utilize a patch or find something lost in the classic examples published in the literature so far. The answer depends on the scale of the problem. If the items in the patch are so close together so that they are within or close to the perceptual distance of the searcher then patch a.r.s. seems incorrect. The reason for a.r.s. may then be re-finding the patch after accidently losing it. eg aphid or egg patches with coccinellids and parisitoids.\n",
      "\n",
      "With reference to _P. rapae_ caterpillars the reason that the \"clock\" may not be reset after a contact is:\n",
      "- The probability of losing a real patch is very low or said differently losing your plant is a real but low probability.\n",
      "- I found one but I lost it is an unlikely event, therefore it was more likely to be a false alarm\n",
      "- I'm still very hungry and therefore it is unlikely that there are any in this immediate area.\n",
      "\n",
      "Therefore the \"clock\" may not be immediately reset but is a longer term event. Also the question as to whether the item found is of good quality may not be immediately answerable.\n",
      " availability of these resources.\n",
      "\n"
     ]
    }
   ],
   "metadata": {}
  }
 ]
}