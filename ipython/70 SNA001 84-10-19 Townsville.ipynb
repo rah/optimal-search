{
 "cells": [
  {
   "cell_type": "code",
   "execution_count": 12,
   "metadata": {},
   "outputs": [
    {
     "data": {
      "text/html": [
       "<div>\n",
       "<style scoped>\n",
       "    .dataframe tbody tr th:only-of-type {\n",
       "        vertical-align: middle;\n",
       "    }\n",
       "\n",
       "    .dataframe tbody tr th {\n",
       "        vertical-align: top;\n",
       "    }\n",
       "\n",
       "    .dataframe thead th {\n",
       "        text-align: right;\n",
       "    }\n",
       "</style>\n",
       "<table border=\"1\" class=\"dataframe\">\n",
       "  <thead>\n",
       "    <tr style=\"text-align: right;\">\n",
       "      <th></th>\n",
       "      <th>X-location</th>\n",
       "      <th>Y-location</th>\n",
       "      <th>X-location.1</th>\n",
       "      <th>Y-location.1</th>\n",
       "      <th>Distance</th>\n",
       "      <th>Bearing</th>\n",
       "      <th>Angle</th>\n",
       "      <th>Abs Angle</th>\n",
       "    </tr>\n",
       "  </thead>\n",
       "  <tbody>\n",
       "    <tr>\n",
       "      <th>0</th>\n",
       "      <td>28676</td>\n",
       "      <td>15184</td>\n",
       "      <td>341.1</td>\n",
       "      <td>151.3</td>\n",
       "      <td>NaN</td>\n",
       "      <td>NaN</td>\n",
       "      <td>NaN</td>\n",
       "      <td>NaN</td>\n",
       "    </tr>\n",
       "    <tr>\n",
       "      <th>1</th>\n",
       "      <td>27372</td>\n",
       "      <td>15144</td>\n",
       "      <td>308.5</td>\n",
       "      <td>150.3</td>\n",
       "      <td>32.615334</td>\n",
       "      <td>88.242647</td>\n",
       "      <td>NaN</td>\n",
       "      <td>NaN</td>\n",
       "    </tr>\n",
       "    <tr>\n",
       "      <th>2</th>\n",
       "      <td>26296</td>\n",
       "      <td>14920</td>\n",
       "      <td>281.6</td>\n",
       "      <td>144.7</td>\n",
       "      <td>27.476717</td>\n",
       "      <td>78.239773</td>\n",
       "      <td>-10.002875</td>\n",
       "      <td>10.002875</td>\n",
       "    </tr>\n",
       "    <tr>\n",
       "      <th>3</th>\n",
       "      <td>25208</td>\n",
       "      <td>14988</td>\n",
       "      <td>254.4</td>\n",
       "      <td>146.4</td>\n",
       "      <td>27.253073</td>\n",
       "      <td>93.575737</td>\n",
       "      <td>15.335964</td>\n",
       "      <td>15.335964</td>\n",
       "    </tr>\n",
       "    <tr>\n",
       "      <th>4</th>\n",
       "      <td>24208</td>\n",
       "      <td>14708</td>\n",
       "      <td>229.4</td>\n",
       "      <td>139.4</td>\n",
       "      <td>25.961510</td>\n",
       "      <td>74.357285</td>\n",
       "      <td>-19.218452</td>\n",
       "      <td>19.218452</td>\n",
       "    </tr>\n",
       "  </tbody>\n",
       "</table>\n",
       "</div>"
      ],
      "text/plain": [
       "   X-location  Y-location  X-location.1  Y-location.1   Distance    Bearing  \\\n",
       "0       28676       15184         341.1         151.3        NaN        NaN   \n",
       "1       27372       15144         308.5         150.3  32.615334  88.242647   \n",
       "2       26296       14920         281.6         144.7  27.476717  78.239773   \n",
       "3       25208       14988         254.4         146.4  27.253073  93.575737   \n",
       "4       24208       14708         229.4         139.4  25.961510  74.357285   \n",
       "\n",
       "       Angle  Abs Angle  \n",
       "0        NaN        NaN  \n",
       "1        NaN        NaN  \n",
       "2 -10.002875  10.002875  \n",
       "3  15.335964  15.335964  \n",
       "4 -19.218452  19.218452  "
      ]
     },
     "execution_count": 12,
     "metadata": {},
     "output_type": "execute_result"
    }
   ],
   "source": [
    "import pandas as pd\n",
    "\n",
    "file = r'../data/ANALYSIS/84-10-19 tvl.xls'\n",
    "df = pd.read_excel(file, sheetname='SNA001', header=0, skiprows=[1])\n",
    "df.head()"
   ]
  },
  {
   "cell_type": "code",
   "execution_count": 28,
   "metadata": {},
   "outputs": [
    {
     "data": {
      "text/html": [
       "<div>\n",
       "<style scoped>\n",
       "    .dataframe tbody tr th:only-of-type {\n",
       "        vertical-align: middle;\n",
       "    }\n",
       "\n",
       "    .dataframe tbody tr th {\n",
       "        vertical-align: top;\n",
       "    }\n",
       "\n",
       "    .dataframe thead th {\n",
       "        text-align: right;\n",
       "    }\n",
       "</style>\n",
       "<table border=\"1\" class=\"dataframe\">\n",
       "  <thead>\n",
       "    <tr style=\"text-align: right;\">\n",
       "      <th></th>\n",
       "      <th>X-location</th>\n",
       "      <th>Y-location</th>\n",
       "      <th>X-location.1</th>\n",
       "      <th>Y-location.1</th>\n",
       "      <th>Distance</th>\n",
       "      <th>Bearing</th>\n",
       "      <th>Angle</th>\n",
       "      <th>Abs Angle</th>\n",
       "    </tr>\n",
       "  </thead>\n",
       "  <tbody>\n",
       "    <tr>\n",
       "      <th>count</th>\n",
       "      <td>59.000000</td>\n",
       "      <td>59.000000</td>\n",
       "      <td>59.000000</td>\n",
       "      <td>59.000000</td>\n",
       "      <td>58.000000</td>\n",
       "      <td>58.000000</td>\n",
       "      <td>57.000000</td>\n",
       "      <td>57.000000</td>\n",
       "    </tr>\n",
       "    <tr>\n",
       "      <th>mean</th>\n",
       "      <td>22067.796610</td>\n",
       "      <td>13839.728814</td>\n",
       "      <td>175.894915</td>\n",
       "      <td>117.693220</td>\n",
       "      <td>21.232716</td>\n",
       "      <td>151.011608</td>\n",
       "      <td>6.017480</td>\n",
       "      <td>16.707172</td>\n",
       "    </tr>\n",
       "    <tr>\n",
       "      <th>std</th>\n",
       "      <td>4241.430756</td>\n",
       "      <td>3297.756551</td>\n",
       "      <td>106.035769</td>\n",
       "      <td>82.443914</td>\n",
       "      <td>7.771374</td>\n",
       "      <td>102.584976</td>\n",
       "      <td>20.437061</td>\n",
       "      <td>13.054351</td>\n",
       "    </tr>\n",
       "    <tr>\n",
       "      <th>min</th>\n",
       "      <td>15032.000000</td>\n",
       "      <td>9132.000000</td>\n",
       "      <td>0.000000</td>\n",
       "      <td>0.000000</td>\n",
       "      <td>0.000000</td>\n",
       "      <td>0.465805</td>\n",
       "      <td>-41.800168</td>\n",
       "      <td>0.000000</td>\n",
       "    </tr>\n",
       "    <tr>\n",
       "      <th>25%</th>\n",
       "      <td>19102.000000</td>\n",
       "      <td>10498.000000</td>\n",
       "      <td>101.750000</td>\n",
       "      <td>34.150000</td>\n",
       "      <td>17.867682</td>\n",
       "      <td>68.082351</td>\n",
       "      <td>-4.470084</td>\n",
       "      <td>7.187490</td>\n",
       "    </tr>\n",
       "    <tr>\n",
       "      <th>50%</th>\n",
       "      <td>21852.000000</td>\n",
       "      <td>14256.000000</td>\n",
       "      <td>170.500000</td>\n",
       "      <td>128.100000</td>\n",
       "      <td>22.563938</td>\n",
       "      <td>93.928891</td>\n",
       "      <td>7.293847</td>\n",
       "      <td>14.655516</td>\n",
       "    </tr>\n",
       "    <tr>\n",
       "      <th>75%</th>\n",
       "      <td>25986.000000</td>\n",
       "      <td>16604.000000</td>\n",
       "      <td>273.850000</td>\n",
       "      <td>186.800000</td>\n",
       "      <td>26.390833</td>\n",
       "      <td>242.104084</td>\n",
       "      <td>16.870228</td>\n",
       "      <td>22.557275</td>\n",
       "    </tr>\n",
       "    <tr>\n",
       "      <th>max</th>\n",
       "      <td>28676.000000</td>\n",
       "      <td>19356.000000</td>\n",
       "      <td>341.100000</td>\n",
       "      <td>255.600000</td>\n",
       "      <td>33.493432</td>\n",
       "      <td>333.977047</td>\n",
       "      <td>73.269822</td>\n",
       "      <td>73.269822</td>\n",
       "    </tr>\n",
       "  </tbody>\n",
       "</table>\n",
       "</div>"
      ],
      "text/plain": [
       "         X-location    Y-location  X-location.1  Y-location.1   Distance  \\\n",
       "count     59.000000     59.000000     59.000000     59.000000  58.000000   \n",
       "mean   22067.796610  13839.728814    175.894915    117.693220  21.232716   \n",
       "std     4241.430756   3297.756551    106.035769     82.443914   7.771374   \n",
       "min    15032.000000   9132.000000      0.000000      0.000000   0.000000   \n",
       "25%    19102.000000  10498.000000    101.750000     34.150000  17.867682   \n",
       "50%    21852.000000  14256.000000    170.500000    128.100000  22.563938   \n",
       "75%    25986.000000  16604.000000    273.850000    186.800000  26.390833   \n",
       "max    28676.000000  19356.000000    341.100000    255.600000  33.493432   \n",
       "\n",
       "          Bearing      Angle  Abs Angle  \n",
       "count   58.000000  57.000000  57.000000  \n",
       "mean   151.011608   6.017480  16.707172  \n",
       "std    102.584976  20.437061  13.054351  \n",
       "min      0.465805 -41.800168   0.000000  \n",
       "25%     68.082351  -4.470084   7.187490  \n",
       "50%     93.928891   7.293847  14.655516  \n",
       "75%    242.104084  16.870228  22.557275  \n",
       "max    333.977047  73.269822  73.269822  "
      ]
     },
     "execution_count": 28,
     "metadata": {},
     "output_type": "execute_result"
    }
   ],
   "source": [
    "df.describe()"
   ]
  },
  {
   "cell_type": "code",
   "execution_count": 20,
   "metadata": {},
   "outputs": [
    {
     "data": {
      "text/plain": [
       "<matplotlib.text.Text at 0x7f33e180eed0>"
      ]
     },
     "execution_count": 20,
     "metadata": {},
     "output_type": "execute_result"
    },
    {
     "data": {
      "image/png": "[encoded data removed]",
      "text/plain": [
       "<matplotlib.figure.Figure at 0x7f33e18be350>"
      ]
     },
     "metadata": {},
     "output_type": "display_data"
    }
   ],
   "source": [
    "%matplotlib inline\n",
    "ax = df.plot(x='X-location.1', y='Y-location.1')\n",
    "ax.set_xlabel(\"Normalised X location (cms)\")\n",
    "ax.set_ylabel(\"Normalised Y location (cms)\")\n",
    "ax.set_title(\"Track\")"
   ]
  },
  {
   "cell_type": "markdown",
   "metadata": {},
   "source": [
    "### Distance Moved"
   ]
  },
  {
   "cell_type": "code",
   "execution_count": 22,
   "metadata": {},
   "outputs": [
    {
     "data": {
      "text/plain": [
       "<matplotlib.text.Text at 0x7f33e16d9b10>"
      ]
     },
     "execution_count": 22,
     "metadata": {},
     "output_type": "execute_result"
    },
    {
     "data": {
      "image/png": "[encoded data removed]",
      "text/plain": [
       "<matplotlib.figure.Figure at 0x7f33e17804d0>"
      ]
     },
     "metadata": {},
     "output_type": "display_data"
    }
   ],
   "source": [
    "ax = df.plot(y='Distance')\n",
    "ax.set_xlabel(\"Time 15 sec intervals\")\n",
    "ax.set_ylabel(\"Distance moved (cms)\")\n",
    "ax.set_title(\"Distance Moved\")"
   ]
  },
  {
   "cell_type": "code",
   "execution_count": null,
   "metadata": {},
   "outputs": [],
   "source": []
  },
  {
   "cell_type": "code",
   "execution_count": 23,
   "metadata": {},
   "outputs": [
    {
     "data": {
      "text/plain": [
       "<matplotlib.text.Text at 0x7f33e1623250>"
      ]
     },
     "execution_count": 23,
     "metadata": {},
     "output_type": "execute_result"
    },
    {
     "data": {
      "image/png": "[encoded data removed]",
      "text/plain": [
       "<matplotlib.figure.Figure at 0x7f33e16bdbd0>"
      ]
     },
     "metadata": {},
     "output_type": "display_data"
    }
   ],
   "source": [
    "ax = df.plot(y='Abs Angle')\n",
    "ax.set_xlabel(\"Time 15 sec intervals\")\n",
    "ax.set_ylabel(\"Angle turned\")\n",
    "ax.set_title(\"Absolute angle turned\")"
   ]
  }
 ],
 "metadata": {
  "kernelspec": {
   "display_name": "Python 2",
   "language": "python",
   "name": "python2"
  },
  "language_info": {
   "codemirror_mode": {
    "name": "ipython",
    "version": 2
   },
   "file_extension": ".py",
   "mimetype": "text/x-python",
   "name": "python",
   "nbconvert_exporter": "python",
   "pygments_lexer": "ipython2",
   "version": "2.7.12"
  }
 },
 "nbformat": 4,
 "nbformat_minor": 2
}
