{
 "cells": [
  {
   "cell_type": "markdown",
   "metadata": {},
   "source": [
    "# Some Track Analysis - Initial Discovery"
   ]
  },
  {
   "cell_type": "code",
   "execution_count": 1,
   "metadata": {},
   "outputs": [
    {
     "data": {
      "text/html": [
       "<div>\n",
       "<style scoped>\n",
       "    .dataframe tbody tr th:only-of-type {\n",
       "        vertical-align: middle;\n",
       "    }\n",
       "\n",
       "    .dataframe tbody tr th {\n",
       "        vertical-align: top;\n",
       "    }\n",
       "\n",
       "    .dataframe thead th {\n",
       "        text-align: right;\n",
       "    }\n",
       "</style>\n",
       "<table border=\"1\" class=\"dataframe\">\n",
       "  <thead>\n",
       "    <tr style=\"text-align: right;\">\n",
       "      <th></th>\n",
       "      <th>track-id</th>\n",
       "      <th>date</th>\n",
       "      <th>time-start</th>\n",
       "      <th>time-finish</th>\n",
       "      <th>species</th>\n",
       "      <th>prey</th>\n",
       "      <th>location</th>\n",
       "    </tr>\n",
       "  </thead>\n",
       "  <tbody>\n",
       "    <tr>\n",
       "      <th>0</th>\n",
       "      <td>1</td>\n",
       "      <td>19-10-84</td>\n",
       "      <td>1041</td>\n",
       "      <td>1056</td>\n",
       "      <td>2</td>\n",
       "      <td>2</td>\n",
       "      <td>tvl-3-mile-creek</td>\n",
       "    </tr>\n",
       "    <tr>\n",
       "      <th>1</th>\n",
       "      <td>2</td>\n",
       "      <td>19-10-84</td>\n",
       "      <td>1106</td>\n",
       "      <td>1120</td>\n",
       "      <td>2</td>\n",
       "      <td>2</td>\n",
       "      <td>tvl-3-mile-creek</td>\n",
       "    </tr>\n",
       "    <tr>\n",
       "      <th>2</th>\n",
       "      <td>3</td>\n",
       "      <td>19-10=84</td>\n",
       "      <td>1020</td>\n",
       "      <td>1029</td>\n",
       "      <td>2</td>\n",
       "      <td>2</td>\n",
       "      <td>tvl-3-mile-creek</td>\n",
       "    </tr>\n",
       "    <tr>\n",
       "      <th>3</th>\n",
       "      <td>4</td>\n",
       "      <td>20-10-84</td>\n",
       "      <td>1010</td>\n",
       "      <td>1100</td>\n",
       "      <td>1</td>\n",
       "      <td>1</td>\n",
       "      <td>tvl-3-car-park</td>\n",
       "    </tr>\n",
       "    <tr>\n",
       "      <th>4</th>\n",
       "      <td>5</td>\n",
       "      <td>22-10-84</td>\n",
       "      <td>1123</td>\n",
       "      <td>1135</td>\n",
       "      <td>1</td>\n",
       "      <td>1</td>\n",
       "      <td>tvl-3-car-park</td>\n",
       "    </tr>\n",
       "  </tbody>\n",
       "</table>\n",
       "</div>"
      ],
      "text/plain": [
       "  track-id      date  time-start  time-finish  species  prey          location\n",
       "0        1  19-10-84        1041         1056        2     2  tvl-3-mile-creek\n",
       "1        2  19-10-84        1106         1120        2     2  tvl-3-mile-creek\n",
       "2        3  19-10=84        1020         1029        2     2  tvl-3-mile-creek\n",
       "3        4  20-10-84        1010         1100        1     1    tvl-3-car-park\n",
       "4        5  22-10-84        1123         1135        1     1    tvl-3-car-park"
      ]
     },
     "execution_count": 1,
     "metadata": {},
     "output_type": "execute_result"
    }
   ],
   "source": [
    "import numpy as np\n",
    "import pandas as pd\n",
    "import matplotlib.pyplot as plt\n",
    "\n",
    "DATA = '../data/tracks.csv'\n",
    "df = pd.read_csv(DATA)\n",
    "\n",
    "df.head()"
   ]
  }
 ],
 "metadata": {
  "kernelspec": {
   "display_name": "Python 2",
   "language": "python",
   "name": "python2"
  },
  "language_info": {
   "codemirror_mode": {
    "name": "ipython",
    "version": 2
   },
   "file_extension": ".py",
   "mimetype": "text/x-python",
   "name": "python",
   "nbconvert_exporter": "python",
   "pygments_lexer": "ipython2",
   "version": "2.7.12"
  }
 },
 "nbformat": 4,
 "nbformat_minor": 2
}
