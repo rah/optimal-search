{
 "metadata": {
  "name": "",
  "signature": "sha256:4d4a4aa10394fb003aecb155b0d3eda1c0a835c247342f98dfd57967092b57c9"
 },
 "nbformat": 3,
 "nbformat_minor": 0,
 "worksheets": [
  {
   "cells": [
    {
     "cell_type": "heading",
     "level": 1,
     "metadata": {},
     "source": [
      "Introduction"
     ]
    },
    {
     "cell_type": "markdown",
     "metadata": {},
     "source": [
      "Intertidal predatory gastropods of the genus Polinices search for prey items during low tide. Polinices sp can be found in a variety of intertidal habitats ranging from dynamic surf beaches to sheltered esturine areas. P. incea is found on predominantly on surf beaches, P. conicus and P. sordidus are  generally found in more sheltered beaches or esturine areas. Prey items for Polinices sp consist of other molluscs. P. incea feeds mainly on pipis (???Donax), P. conicus and P. sordidus feed on a variety of molluscs, with Isanda Coronata being the major prey item in the Townsville study area.\n",
      "\n",
      "Search behaviour for prey is conducted by moving across the surface of the substrate until a prey item is detected. Two methods of detection have been observed; mechanoreception and chemoreception. Detection through mechanoreception usually occurs when prey items ..."
     ]
    },
    {
     "cell_type": "code",
     "collapsed": false,
     "input": [],
     "language": "python",
     "metadata": {},
     "outputs": []
    }
   ],
   "metadata": {}
  }
 ]
}