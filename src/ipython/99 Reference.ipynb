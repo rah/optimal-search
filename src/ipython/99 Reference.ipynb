{
 "cells": [
  {
   "cell_type": "markdown",
   "metadata": {
    "ein.tags": "worksheet-0",
    "slideshow": {
     "slide_type": "-"
    }
   },
   "source": [
    "# Reference\n",
    "\n",
    "1. Hoffmann, G. (1983) The search behavior of the desert isopod _Hemilepistus reaumuri_ as compared with a systematic search. Behavioral Ecology and Sociobiology August 1983, Volume 13, Issue 2, pp 93-106. https://doi.org/10.1007/BF00293799"
   ]
  }
 ],
 "metadata": {
  "name": "99 Reference.ipynb"
 },
 "nbformat": 4,
 "nbformat_minor": 2
}
