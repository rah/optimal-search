{
 "cells": [
  {
   "cell_type": "markdown",
   "metadata": {},
   "source": [
    "# Behavioural Observations"
   ]
  },
  {
   "cell_type": "markdown",
   "metadata": {},
   "source": [
    "## Predator Attack Response"
   ]
  },
  {
   "cell_type": "markdown",
   "metadata": {},
   "source": [
    "During search for prey items, a number of events may potentially occur as a predator approaches a prey item. The predator may detect the prey through chemoreception even though the prey item has not moved.  The predator may detect the prey item through mechanoreception, where the prey is either conducting feeding movements (or other undisturbed behaviour), or the prey item has detected the approach of a predator and is initiating an escape response.\n",
    "\n",
    "On the possible detection of a prey item, the predator will may conduct an initial attack on the prey item, which may be followed by seach behaviour if the attack is not successful. The degree to which this behaviour may occur will be dependant on the hunger of the predator and the strength of the initial stimulus. These two factors will be interdependent. \n",
    "\n",
    "A hungry predator is more likely to attack a low stimulus, whereas a less hungry predator may be more discerning. A low stimulus is more likely to be a false target or a small prey item which will return a low reward for the effort that would be expended in capturing and drilling the prey item.\n",
    "\n",
    "In order to evaluate the attack response of predators, a field experiment was conducted with {P. conicus} to determine the response to mechnoreception. A match stick was used to prod the sand gently at fourty-five degrees from the direction of movement of the predator. This was done for different subjects of ranges between 1.0 cm and 5.0 cm as judged by eye. \n",
    "\n",
    "A total of ten trials per distance (1.0, 2.0, ... , 5.0) were conducted. The behaviour in each instance was recorded and later classified into three groups:\n",
    "\n",
    "strong: A clear attack response. The predator showed the behaviour of lifting up the anterior section of the foot and reaching to grasp the prey. The degree to which this occurred varied from virtually pouncing on the suspected prey item to extending the foot and probing in the direction of the detected movement.\n",
    "intermediate: This was any clear response other than attack. Such behavior included stopping and then turning toward the simulated movement, stopping and turning away, and just stopping. Subsequent behaviour sometimes included burrowing.\n",
    "none: No apparent reaction.\n",
    "\n",
    "The results indicate that there was a 60% probability of an attack at a distance of 1.0 cm, which dropped rapidly to 10% at 2.0 cm  distance. At this range the probability of an intermediate reaction peaked  at 70%. At 4.0 cm there was a 20-30% probability of an intermediate  reaction but from the recorded behavior this was only a slight reaction.  At 5.0 cm no reactions were detected."
   ]
  },
  {
   "cell_type": "markdown",
   "metadata": {},
   "source": [
    "## Prey Escape Behaviour"
   ]
  },
  {
   "cell_type": "markdown",
   "metadata": {},
   "source": [
    "## Prey Capture "
   ]
  },
  {
   "cell_type": "markdown",
   "metadata": {},
   "source": [
    "## Carrying Prey Items"
   ]
  },
  {
   "cell_type": "markdown",
   "metadata": {},
   "source": [
    "## Tracking by Chemoreception Tidal"
   ]
  },
  {
   "cell_type": "markdown",
   "metadata": {},
   "source": [
    "## Tidal Rythms and Time of Search"
   ]
  },
  {
   "cell_type": "markdown",
   "metadata": {},
   "source": [
    "## Laboratory Behaviour"
   ]
  },
  {
   "cell_type": "markdown",
   "metadata": {},
   "source": [
    "## Surfing"
   ]
  }
 ],
 "metadata": {
  "kernelspec": {
   "display_name": "Python 3",
   "language": "python",
   "name": "python3"
  },
  "language_info": {
   "codemirror_mode": {
    "name": "ipython",
    "version": 3
   },
   "file_extension": ".py",
   "mimetype": "text/x-python",
   "name": "python",
   "nbconvert_exporter": "python",
   "pygments_lexer": "ipython3",
   "version": "3.7.5"
  }
 },
 "nbformat": 4,
 "nbformat_minor": 1
}
