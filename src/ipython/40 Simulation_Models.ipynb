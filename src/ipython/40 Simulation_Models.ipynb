{
 "cells": [
  {
   "cell_type": "markdown",
   "metadata": {
    "ein.tags": "worksheet-0",
    "slideshow": {
     "slide_type": "-"
    }
   },
   "source": [
    "# Simulation Models"
   ]
  },
  {
   "cell_type": "markdown",
   "metadata": {
    "ein.tags": "worksheet-0",
    "slideshow": {
     "slide_type": "-"
    }
   },
   "source": [
    "## Introduction"
   ]
  },
  {
   "cell_type": "markdown",
   "metadata": {
    "ein.tags": "worksheet-0",
    "slideshow": {
     "slide_type": "-"
    }
   },
   "source": [
    "What questions are being tackled through simulation and what will it tell us? The context of these simulations is based on the concept of maximizing or minimising a particular variable whilst searching for an item. For animals foraging for food, the most commonly considered variable is energy intake as a proxy for fitness. For the purpose of these simulations, the variable being considered is the time to locate an item. We either want to minimise the time to find an item or maximize the encounter rate of items. \n",
    "\n",
    "For the purpose of these simulations, a number of characteristics will be held constant:\n",
    "- speed of movement\n",
    "- detection range\n",
    "- probability of detection or capture\n",
    "- position of the item\n",
    "- value of item\n",
    "\n",
    "The following characteristics may act as variables in different search scenarios:\n",
    "- angled turned during search\n",
    "- distance of item from start position\n",
    "- number of items\n",
    "- distribution of items (patchiness)\n",
    "\n",
    "The simulation scenarios considered include:\n",
    "- _Scenario 1_: Search for a single item\n",
    "- _Scenario 2_: Search for items in patches"
   ]
  },
  {
   "cell_type": "markdown",
   "metadata": {
    "ein.tags": "worksheet-0",
    "slideshow": {
     "slide_type": "-"
    }
   },
   "source": [
    "## Scenario 1: Search for a Single Item \n",
    "In the first scenario, the item searched for might be considered a patch. The amount of search effort for that item should be a factor of the time to locate that item by restricting search to the immediate area in which the item is expected to be located versus the likelihood of encountering another item and capturing that.\n",
    "\n",
    "In the situation where there is only one item to be found, search might be considered exhaustive although other factors might come into play, such as a time limit to find the desired item, or risk of predation during search. An example of this type of search is shown by the desert isopod retruning to its burrow after foraging. Find the burrow is a life critical capability (Hoffmann, 1983)\n",
    "\n",
    "### Factors considered\n",
    "- angle turned during search\n",
    "- distance of item from the start location of the searcher\n",
    "- time of search\n",
    "\n",
    "The main factor of interest is the angle turned during search. This may be further broken down into facets such as direction of turn i.e. left or right, the average amount of turn, and the variability in that amount turned. In addition, each of these facets may vary over the time of the search, either together or independently.  "
   ]
  },
  {
   "cell_type": "markdown",
   "metadata": {
    "ein.tags": "worksheet-0",
    "slideshow": {
     "slide_type": "-"
    }
   },
   "source": [
    "## Scenario 2: Search for Items in Patches"
   ]
  }
 ],
 "metadata": {
  "kernelspec": {
   "display_name": "Python 2",
   "name": "python2"
  },
  "language_info": {
   "codemirror_mode": {
    "name": "ipython",
    "version": 2
   },
   "file_extension": ".py",
   "mimetype": "text/x-python",
   "name": "python",
   "nbconvert_exporter": "python",
   "pygments_lexer": "ipython2",
   "version": "2.7.12"
  },
  "name": "40 Simulation_Models.ipynb"
 },
 "nbformat": 4,
 "nbformat_minor": 2
}
