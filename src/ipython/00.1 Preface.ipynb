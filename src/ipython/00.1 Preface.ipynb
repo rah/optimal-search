{
 "cells": [
  {
   "cell_type": "markdown",
   "metadata": {},
   "source": [
    "## Preface\n",
    "\n",
    "This project was commenced in 1984 as a PhD at James Cook University. I did not complete this study (much to my disappointment). \n",
    "\n",
    "At the time of writing this we are approaching 2020, some 36 years later. The subject has been an ongoing interest, however my ability to progress has been limited by many factors: capability, experience, personal, work, etc. As I approach the end of my working life, maybe I will find time to add some value my interest.\n",
    "\n",
    "The concepts associated with optimal behaviour in animals are still relevant, although I am not too sure how well we have progressed in demonstrating the value of this theory. I will need to review the literature on this sunbject to see how far we have come.\n",
    "\n",
    "There are a number aspects that interest me:\n",
    "\n",
    "- the underlying mechanisms and theory of optimal behaviour\n",
    "- how do these mechanisms impact ecological systems (especially those under stress)\n",
    "- is it possible to replicate these behaviours using AI/ML\n",
    "\n",
    "As an open source project on github, feel welcome to take what you want. If you have an interest in this area I would welcome contact.\n",
    "\n",
    "\n",
    "\n"
   ]
  }
 ],
 "metadata": {
  "kernelspec": {
   "display_name": "Python 3",
   "language": "python",
   "name": "python3"
  },
  "language_info": {
   "codemirror_mode": {
    "name": "ipython",
    "version": 3
   },
   "file_extension": ".py",
   "mimetype": "text/x-python",
   "name": "python",
   "nbconvert_exporter": "python",
   "pygments_lexer": "ipython3",
   "version": "3.7.5"
  }
 },
 "nbformat": 4,
 "nbformat_minor": 2
}
