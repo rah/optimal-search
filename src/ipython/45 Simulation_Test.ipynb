{
 "cells": [
  {
   "cell_type": "markdown",
   "metadata": {},
   "source": [
    "# Simulation Test\n",
    "\n",
    "Basic test notebook for simulation code. This simulation based on the parameters that is close to a simple random walk."
   ]
  },
  {
   "cell_type": "markdown",
   "metadata": {},
   "source": [
    "## Introduction\n",
    "\n",
    "The searcher turns randomly 60 degrees with each move and a std var of 10.0\n",
    "\n",
    "The analysis should show:\n",
    "\n",
    "- Number captured vs total available\n",
    "- Heat map of the area searched in the environment\n",
    "- Heat map showing the distribution of the items in the environment"
   ]
  },
  {
   "cell_type": "code",
   "execution_count": 1,
   "metadata": {},
   "outputs": [],
   "source": [
    "import sys\n",
    "import os\n",
    "\n",
    "sys.path.append('../../src')"
   ]
  },
  {
   "cell_type": "code",
   "execution_count": 2,
   "metadata": {},
   "outputs": [],
   "source": [
    "import analysis.total_captured as tc\n",
    "import analysis.search_dist as sd\n",
    "import util.simutil as su"
   ]
  },
  {
   "cell_type": "code",
   "execution_count": 3,
   "metadata": {},
   "outputs": [],
   "source": [
    "params = su.get_params(\"../experiments/ER0_1.ini\")\n",
    "results = su.runsim(params)"
   ]
  },
  {
   "cell_type": "code",
   "execution_count": null,
   "metadata": {},
   "outputs": [],
   "source": [
    "dist = sd.extract_search_paths(results)\n",
    "\n",
    "print(dist)"
   ]
  },
  {
   "cell_type": "code",
   "execution_count": null,
   "metadata": {},
   "outputs": [],
   "source": [
    "data = tc.extract_captured(results)\n",
    "tc.analyse_results(data)"
   ]
  }
 ],
 "metadata": {
  "kernelspec": {
   "display_name": "optimal-selection",
   "language": "python",
   "name": "python3"
  },
  "language_info": {
   "codemirror_mode": {
    "name": "ipython",
    "version": 3
   },
   "file_extension": ".py",
   "mimetype": "text/x-python",
   "name": "python",
   "nbconvert_exporter": "python",
   "pygments_lexer": "ipython3",
   "version": "3.10.4"
  }
 },
 "nbformat": 4,
 "nbformat_minor": 2
}
