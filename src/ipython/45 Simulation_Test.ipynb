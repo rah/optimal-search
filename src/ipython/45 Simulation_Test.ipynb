{
 "cells": [
  {
   "cell_type": "markdown",
   "metadata": {},
   "source": [
    "# Simulation Test\n",
    "\n",
    "Basic test notebook for simulation code. This simulation based on the parameters that is close to a simple random walk."
   ]
  },
  {
   "cell_type": "markdown",
   "metadata": {},
   "source": [
    "## Introduction\n",
    "\n",
    "The searcher turns randomly 60 degrees with each move and a std var of 10.0\n",
    "\n",
    "The analysis should show:\n",
    "\n",
    "- Number captured vs total available\n",
    "- Heat map of the area searched in the environment\n",
    "- Heat map showing the distribution of the items in the environment"
   ]
  },
  {
   "cell_type": "code",
   "execution_count": 3,
   "metadata": {},
   "outputs": [],
   "source": [
    "import sys\n",
    "import os\n",
    "\n",
    "sys.path.append('../../src')"
   ]
  },
  {
   "cell_type": "code",
   "execution_count": 4,
   "metadata": {},
   "outputs": [],
   "source": [
    "import analysis.total_captured as tc\n",
    "import analysis.search_dist as sd\n",
    "import util.simutil as su"
   ]
  },
  {
   "cell_type": "code",
   "execution_count": 5,
   "metadata": {},
   "outputs": [],
   "source": [
    "params = su.get_params(\"../experiments/ER0_1.ini\")\n",
    "results = su.runsim(params)"
   ]
  },
  {
   "cell_type": "code",
   "execution_count": 6,
   "metadata": {},
   "outputs": [
    {
     "ename": "TypeError",
     "evalue": "object of type 'float' has no len()",
     "output_type": "error",
     "traceback": [
      "\u001b[0;31m---------------------------------------------------------------------------\u001b[0m",
      "\u001b[0;31mTypeError\u001b[0m                                 Traceback (most recent call last)",
      "\u001b[1;32m/home/rah/workspace/optimal-search/src/ipython/45 Simulation_Test.ipynb Cell 6\u001b[0m in \u001b[0;36m<cell line: 1>\u001b[0;34m()\u001b[0m\n\u001b[0;32m----> <a href='vscode-notebook-cell://wsl%2Bubuntu/home/rah/workspace/optimal-search/src/ipython/45%20Simulation_Test.ipynb#W6sdnNjb2RlLXJlbW90ZQ%3D%3D?line=0'>1</a>\u001b[0m dist \u001b[39m=\u001b[39m sd\u001b[39m.\u001b[39;49mextract_search_paths(results)\n\u001b[1;32m      <a href='vscode-notebook-cell://wsl%2Bubuntu/home/rah/workspace/optimal-search/src/ipython/45%20Simulation_Test.ipynb#W6sdnNjb2RlLXJlbW90ZQ%3D%3D?line=2'>3</a>\u001b[0m \u001b[39mprint\u001b[39m(dist)\n",
      "File \u001b[0;32m~/workspace/optimal-search/src/ipython/../../src/analysis/search_dist.py:16\u001b[0m, in \u001b[0;36mextract_search_paths\u001b[0;34m(results)\u001b[0m\n\u001b[1;32m     13\u001b[0m \u001b[39mfor\u001b[39;00m trial \u001b[39min\u001b[39;00m \u001b[39mrange\u001b[39m(\u001b[39mlen\u001b[39m(results[\u001b[39m'\u001b[39m\u001b[39menvironment\u001b[39m\u001b[39m'\u001b[39m])):\n\u001b[1;32m     14\u001b[0m     pred \u001b[39m=\u001b[39m results[\u001b[39m'\u001b[39m\u001b[39mpredator\u001b[39m\u001b[39m'\u001b[39m][trial]\n\u001b[0;32m---> 16\u001b[0m     \u001b[39mfor\u001b[39;00m step \u001b[39min\u001b[39;00m \u001b[39mlen\u001b[39;49m(pred\u001b[39m.\u001b[39;49mxpos):\n\u001b[1;32m     17\u001b[0m         x\u001b[39m.\u001b[39mappend(pred\u001b[39m.\u001b[39mX[step])\n\u001b[1;32m     18\u001b[0m         y\u001b[39m.\u001b[39mappend(pred\u001b[39m.\u001b[39mY[step])\n",
      "\u001b[0;31mTypeError\u001b[0m: object of type 'float' has no len()"
     ]
    }
   ],
   "source": [
    "dist = sd.extract_search_paths(results)\n",
    "\n",
    "print(dist)"
   ]
  },
  {
   "cell_type": "code",
   "execution_count": 7,
   "metadata": {},
   "outputs": [
    {
     "name": "stdout",
     "output_type": "stream",
     "text": [
      "Slope, intercept: 0.0002494803603265106 -0.003431296818645277\n",
      "R-squared: 0.013143549351040366\n",
      "Residual Std Error =  0.31014963203457535\n"
     ]
    },
    {
     "data": {
      "image/png": "[encoded data removed]",
      "text/plain": [
       "<Figure size 432x288 with 1 Axes>"
      ]
     },
     "metadata": {
      "needs_background": "light"
     },
     "output_type": "display_data"
    }
   ],
   "source": [
    "data = tc.extract_captured(results)\n",
    "tc.analyse_results(data)"
   ]
  }
 ],
 "metadata": {
  "kernelspec": {
   "display_name": "optimal-selection",
   "language": "python",
   "name": "python3"
  },
  "language_info": {
   "codemirror_mode": {
    "name": "ipython",
    "version": 3
   },
   "file_extension": ".py",
   "mimetype": "text/x-python",
   "name": "python",
   "nbconvert_exporter": "python",
   "pygments_lexer": "ipython3",
   "version": "3.10.4"
  }
 },
 "nbformat": 4,
 "nbformat_minor": 2
}
